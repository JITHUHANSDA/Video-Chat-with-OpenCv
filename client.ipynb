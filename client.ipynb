{
 "cells": [
  {
   "cell_type": "markdown",
   "id": "531f6147",
   "metadata": {},
   "source": [
    "# Client Side\n"
   ]
  },
  {
   "cell_type": "code",
   "execution_count": 7,
   "id": "02f03653",
   "metadata": {},
   "outputs": [],
   "source": [
    "# importing library\n",
    "\n",
    "import socket\n",
    "import numpy as np\n",
    "import cv2 as cv\n",
    "import threading"
   ]
  },
  {
   "cell_type": "code",
   "execution_count": 8,
   "id": "d36a50c6",
   "metadata": {},
   "outputs": [
    {
     "name": "stdout",
     "output_type": "stream",
     "text": [
      "enter server ip: 192.168.39.122\n",
      "enter server port number: 8080\n",
      "Entered\n"
     ]
    },
    {
     "name": "stderr",
     "output_type": "stream",
     "text": [
      "Exception in thread Thread-9:\n",
      "Traceback (most recent call last):\n",
      "  File \"C:\\Users\\JITHU HANSDA\\anaconda3\\lib\\threading.py\", line 932, in _bootstrap_inner\n",
      "    self.run()\n",
      "  File \"C:\\Users\\JITHU HANSDA\\anaconda3\\lib\\threading.py\", line 870, in run\n",
      "    self._target(*self._args, **self._kwargs)\n",
      "  File \"<ipython-input-8-8aeacdc74023>\", line 42, in sender\n",
      "ConnectionResetError: [WinError 10054] An existing connection was forcibly closed by the remote host\n",
      "Exception in thread Thread-8:\n",
      "Traceback (most recent call last):\n",
      "  File \"C:\\Users\\JITHU HANSDA\\anaconda3\\lib\\threading.py\", line 932, in _bootstrap_inner\n",
      "    self.run()\n",
      "  File \"C:\\Users\\JITHU HANSDA\\anaconda3\\lib\\threading.py\", line 870, in run\n",
      "    self._target(*self._args, **self._kwargs)\n",
      "  File \"<ipython-input-8-8aeacdc74023>\", line 18, in receiver\n",
      "ConnectionResetError: [WinError 10054] An existing connection was forcibly closed by the remote host\n"
     ]
    },
    {
     "name": "stdout",
     "output_type": "stream",
     "text": [
      "(480, 640, 3)\n",
      "(480, 640, 3)\n",
      "Lost 1 frames\n",
      "Lost 2 frames\n"
     ]
    }
   ],
   "source": [
    "# client program socket to connect to the server program\n",
    "s = socket.socket()\n",
    "s.bind((\"\", 9999))  # empty means local system\n",
    "server_ip = input(\"enter server ip: \")\n",
    "server_port = input(\"enter server port number: \")\n",
    "\n",
    "s.connect((server_ip, int(server_port))) \n",
    "s.send(b\"connected\")  # sending string as data\n",
    "camera = cv.VideoCapture(0) # starting the camera i.e. laptop webcam\n",
    "\n",
    "\n",
    "# function for cleint to work as receiver\n",
    "def receiver():\n",
    "    framesLost = 0\n",
    "    print(\"Entered\")\n",
    "    while True:\n",
    "        framesLost += 1 # counting frame\n",
    "        data = s.recv(100000000)  # receiving data with the size limit\n",
    "        if(data == b'finished'): # to stop receiving and stop camera\n",
    "            print(\"Finished\")\n",
    "            camera.release()\n",
    "            s.close()\n",
    "        else:  # converting the byte data into numpy array\n",
    "            photo =  np.frombuffer(data, dtype=np.uint8)\n",
    "            if len(photo) == 640*480*3: # changing the array shape and getting the video\n",
    "                cv.imshow('From Server', photo.reshape(480, 640, 3))\n",
    "                if cv.waitKey(1) == 13: # camera closing condition\n",
    "                    s.send(b'finished')\n",
    "                    camera.release()\n",
    "                    cv.destroyAllWindows()\n",
    "                    break\n",
    "            else:\n",
    "                print(\"Lost {} frames\".format(framesLost) ) #counting the lost frames during video exchange\n",
    "\n",
    "# function for client to send the data of the video             \n",
    "def sender():\n",
    "    while True: # reading the camera data resizing and sending it as byte \n",
    "        status, photo = camera.read()\n",
    "        photo = cv.resize(photo, (640, 480))\n",
    "        print(photo.shape)\n",
    "        if status:\n",
    "            s.send(np.ndarray.tobytes(photo))\n",
    "        else: print(\"Could not get frame\")\n",
    "    camera.release()\n",
    "\n",
    "# threads to run both the functions\n",
    "threading.Thread(target=receiver).start()\n",
    "threading.Thread(target=sender).start()"
   ]
  },
  {
   "cell_type": "code",
   "execution_count": null,
   "id": "c7addf84",
   "metadata": {},
   "outputs": [],
   "source": []
  },
  {
   "cell_type": "code",
   "execution_count": null,
   "id": "19fb8051",
   "metadata": {},
   "outputs": [],
   "source": []
  }
 ],
 "metadata": {
  "kernelspec": {
   "display_name": "Python 3",
   "language": "python",
   "name": "python3"
  },
  "language_info": {
   "codemirror_mode": {
    "name": "ipython",
    "version": 3
   },
   "file_extension": ".py",
   "mimetype": "text/x-python",
   "name": "python",
   "nbconvert_exporter": "python",
   "pygments_lexer": "ipython3",
   "version": "3.8.8"
  }
 },
 "nbformat": 4,
 "nbformat_minor": 5
}
